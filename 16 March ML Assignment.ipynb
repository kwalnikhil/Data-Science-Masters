{
 "cells": [
  {
   "cell_type": "code",
   "execution_count": 1,
   "id": "0d8cb1ed",
   "metadata": {},
   "outputs": [],
   "source": [
    "#Q1: Define overfitting and underfitting in machine learning. What are the consequences of each, and how\n",
    "#can they be mitigated?\n",
    "\n",
    "#Q2: How can we reduce overfitting? Explain in brief.\n",
    "\n",
    "#Q3: Explain underfitting. List scenarios where underfitting can occur in ML.\n",
    "\n",
    "#Q4: Explain the bias-variance tradeoff in machine learning. What is the relationship between bias and\n",
    "#variance, and how do they affect model performance?\n",
    "\n",
    "#Q5: Discuss some common methods for detecting overfitting and underfitting in machine learning models.\n",
    "#How can you determine whether your model is overfitting or underfitting?\n",
    "\n",
    "#Q6: Compare and contrast bias and variance in machine learning. What are some examples of high bias\n",
    "#and high variance models, and how do they differ in terms of their performance?\n",
    "\n",
    "#Q7: What is regularization in machine learning, and how can it be used to prevent overfitting? Describe\n",
    "#some common regularization techniques and how they work."
   ]
  },
  {
   "cell_type": "code",
   "execution_count": 4,
   "id": "da4e649e",
   "metadata": {},
   "outputs": [],
   "source": [
    "#Q1: Define overfitting and underfitting in machine learning. What are the consequences of each, and how\n",
    "#can they be mitigated?\n",
    "\n",
    "#Ans : Overfitting : When for trained model, accuracy is pretty high with training data (Low Bias) but low with test data\n",
    "#(High Variance), model is called overfitted with train data.\n",
    "\n",
    "# Model Accuracy for the predicated values of test data is low.\n",
    "\n",
    "# Underfitting : When for trained model, accuracy is low with training data (High Bias) and low with test data as well (High Variance),\n",
    "# model is called underfitted.\n",
    "\n",
    "# Model Accuracy for the predicated values of test data is low.\n",
    "\n",
    "# Overfitting and Underfitting can be mitigated with low bias, low variance model which is also called generalized model.\n",
    "\n",
    "# To prevent overfitting, we need to have enough data that represents the diversity and complexity of the problem \n",
    "#we are trying to solve. \n",
    "#To prevent underfitting, we need to have relevant data that captures the features and patterns that are important for our\n",
    "#model to learn"
   ]
  },
  {
   "cell_type": "code",
   "execution_count": 5,
   "id": "e25420c1",
   "metadata": {},
   "outputs": [],
   "source": [
    "#Q2: How can we reduce overfitting? Explain in brief.\n",
    "## To prevent overfitting, we need to have enough data that represents the diversity and complexity of the problem \n",
    "#we are trying to solve."
   ]
  },
  {
   "cell_type": "code",
   "execution_count": 7,
   "id": "386e4950",
   "metadata": {},
   "outputs": [],
   "source": [
    "#Q3: Explain underfitting. List scenarios where underfitting can occur in ML.\n",
    "\n",
    "#Ans : When for trained model, accuracy is low with training data (High Bias) and low with test data as well (High Variance),\n",
    "# model is called underfitted.\n",
    "\n",
    "# Underfitting Occurs if :\n",
    "# 1. Model is trained with less number of datapoints or features\n",
    "# 2. Model is trained for less amount of time\n",
    "\n",
    "#To prevent underfitting, we need to have relevant data that captures the features and patterns that are important for our\n",
    "#model to learn"
   ]
  },
  {
   "cell_type": "code",
   "execution_count": 8,
   "id": "4cfdaac8",
   "metadata": {},
   "outputs": [],
   "source": [
    "#Q4: Explain the bias-variance tradeoff in machine learning. What is the relationship between bias and\n",
    "#variance, and how do they affect model performance?\n",
    "\n",
    "# Ans :\n",
    "# Bias is the difference between the average prediction of our model and the correct value which we are trying to predict.\n",
    "# Variance is the variability of model prediction for a given data point or a value which tells us spread of our data.\n",
    "# Our goal is to achieve the right amount of both bias and variance to get the best possible predictions.\n",
    "\n",
    "# If a model has low bias & high variance (Model is called overfitted)\n",
    "# If a model has high bias & high Variance (Model is called underfitted)\n",
    "# To have a generalized model, it should have low bias & low variance"
   ]
  },
  {
   "cell_type": "code",
   "execution_count": 9,
   "id": "2719bc10",
   "metadata": {},
   "outputs": [],
   "source": [
    "#Q5: Discuss some common methods for detecting overfitting and underfitting in machine learning models.\n",
    "#How can you determine whether your model is overfitting or underfitting?\n",
    "\n",
    "# Ans : The best method to detect overfit models is by testing the machine learning models on more data with \n",
    "#comprehensive representation of possible input data values and types. Typically, part of the training data is used as \n",
    "#test data to check for overfitting. A high error rate in the testing data indicates overfitting.\n",
    "\n",
    "# Underfitting : It occurs when a model is too simple, which can be a result of a model needing more training time, more input \n",
    "#features, or less regularization. Like overfitting, when a model is underfitted, it cannot establish the dominant trend \n",
    "#within the data, resulting in training errors and poor performance of the model."
   ]
  },
  {
   "cell_type": "code",
   "execution_count": null,
   "id": "2831f7f4",
   "metadata": {},
   "outputs": [],
   "source": [
    "#Q6: Compare and contrast bias and variance in machine learning. What are some examples of high bias\n",
    "#and high variance models, and how do they differ in terms of their performance?\n",
    "\n",
    "# Ans : \n",
    "# Bias is the difference between the average prediction of our model and the correct value which we are trying to predict.\n",
    "# Variance is the variability of model prediction for a given data point or a value which tells us spread of our data.\n",
    "# Our goal is to achieve the right amount of both bias and variance to get the best possible predictions.\n",
    "\n",
    "#A model with high variance may represent the data set accurately but could lead to overfitting to noisy or otherwise \n",
    "#unrepresentative training data. \n",
    "#In comparison, a model with high bias may underfit the training data due to a simpler model that overlooks regularities\n",
    "#in the data."
   ]
  },
  {
   "cell_type": "code",
   "execution_count": 10,
   "id": "7be6340b",
   "metadata": {},
   "outputs": [],
   "source": [
    "#Q7: What is regularization in machine learning, and how can it be used to prevent overfitting? Describe\n",
    "#some common regularization techniques and how they work.\n",
    "\n",
    "# Ans :\n",
    "\n",
    "#Regularization refers to techniques that are used to calibrate machine learning models in order to minimize the adjusted \n",
    "#loss function and prevent overfitting or underfitting. Using Regularization, we can fit our machine learning model \n",
    "#appropriately on a given test set and hence reduce the errors in it.\n",
    "# Ridge regression technique is used to prevent overfitting.\n",
    "\n",
    "# Regularization Techniques :\n",
    "# Ridge Regression (Helps in reducing Overfitting)\n",
    "# Lasso Regression (Helps in feature Selection)"
   ]
  },
  {
   "cell_type": "code",
   "execution_count": null,
   "id": "1b5db451",
   "metadata": {},
   "outputs": [],
   "source": []
  }
 ],
 "metadata": {
  "kernelspec": {
   "display_name": "Python 3 (ipykernel)",
   "language": "python",
   "name": "python3"
  },
  "language_info": {
   "codemirror_mode": {
    "name": "ipython",
    "version": 3
   },
   "file_extension": ".py",
   "mimetype": "text/x-python",
   "name": "python",
   "nbconvert_exporter": "python",
   "pygments_lexer": "ipython3",
   "version": "3.9.13"
  }
 },
 "nbformat": 4,
 "nbformat_minor": 5
}
