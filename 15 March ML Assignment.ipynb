{
 "cells": [
  {
   "cell_type": "code",
   "execution_count": 2,
   "id": "ba7ea3d7",
   "metadata": {},
   "outputs": [],
   "source": [
    "#Q- Explain the following with an example.\n",
    "#1) Artificial Intelligence\n",
    "#2) Machine Learning\n",
    "#3) Deep Learning"
   ]
  },
  {
   "cell_type": "code",
   "execution_count": 3,
   "id": "4f1f078d",
   "metadata": {},
   "outputs": [],
   "source": [
    "## Artifical Intelligence\n",
    "\n",
    "#Artificial intelligence (AI) is the ability of a computer or a robot controlled by a computer to do tasks that are usually\n",
    "#done by humans because they require human intelligence and discernment.\n",
    "\n",
    "## Machine Learning\n",
    "\n",
    "#Machine Learning is a subset of artificial intelligence which focuses on the use of data and algorithms to imitate the way\n",
    "#humans learn, gradually improving its accuracy.\n",
    "\n",
    "## Deep Learning\n",
    "\n",
    "#Deep learning is a machine learning technique that teaches computers to do what comes naturally to humans: learn by example. \n",
    "#Deep learning is a key technology behind driverless cars, enabling them to recognize a stop sign, or to distinguish a \n",
    "#pedestrian from a lamppost."
   ]
  },
  {
   "cell_type": "code",
   "execution_count": 4,
   "id": "51b3893e",
   "metadata": {},
   "outputs": [],
   "source": [
    "#Q : What is supervised learning? List some examples of supervised learning?\n",
    "\n",
    "#Ans : Supervised learning is a type of machine learning in which model is trained with some previous labelled dataset \n",
    "#which enables it to predict the output for the new test dataset.\n",
    "\n",
    "#Examples of Supervised Learning.\n",
    "\n",
    "# House price detection"
   ]
  },
  {
   "cell_type": "code",
   "execution_count": 5,
   "id": "243f3e78",
   "metadata": {},
   "outputs": [],
   "source": [
    "#Q : What is unsupervised learning? List some examples of unsupervised learning.\n",
    "\n",
    "#Ans : Unsupervised learning is a type of machine learning in which given unlabelled dataset is divided into clusters of similar\n",
    "#datapoints based on different algorithms like (KMeans, DBSCAN).\n",
    "\n",
    "# Examples of Unsupervised Learning.\n",
    "\n",
    "# An example of unsupervised machine learning would be a case where a supermarket wants to increase its revenue. \n",
    "#It decides to implement a machine learning algorithm on its sold products' data. \n",
    "#It was observed that the customers who bought cereals more often tend to buy milk or those who buy eggs tend to buy bacon"
   ]
  },
  {
   "cell_type": "code",
   "execution_count": 6,
   "id": "19e447ba",
   "metadata": {},
   "outputs": [],
   "source": [
    "#Q : What is the difference between AI, ML, DL, and DS?\n",
    "\n",
    "#Ans : Artificial Intelligence is the superset for ML,DL & DS. With the help of different types of algorithms model is trained\n",
    "#to perform task related to ML,DL or DS."
   ]
  },
  {
   "cell_type": "code",
   "execution_count": 7,
   "id": "876cf5c5",
   "metadata": {},
   "outputs": [],
   "source": [
    "#Q : What are the main differences between supervised, unsupervised, and semi-supervised learning?\n",
    "\n",
    "#Ans : Supervised learning is a problem with labeled data, expecting to develop predictive capability. \n",
    "#Unsupervised learning is discovering process, diving into unlabeled data to capture hidden information. \n",
    "#Semi-supervised learning is a blend of supervised and unsupervised learning."
   ]
  },
  {
   "cell_type": "code",
   "execution_count": 8,
   "id": "4e011139",
   "metadata": {},
   "outputs": [],
   "source": [
    "#Q : What is train, test and validation split? Explain the importance of each term.\n",
    "\n",
    "#Ans : Given database is first divided into train and test database.\n",
    "# Train      : Train database is used to train the model with decided algorithm.\n",
    "# Validation : Train database further divided into two parts of train and validation. Validation database is used \n",
    "#for hyper parameter tuning of algorithm.\n",
    "# Test       : Model accuracy being tested on test database."
   ]
  },
  {
   "cell_type": "code",
   "execution_count": 11,
   "id": "6b2b163e",
   "metadata": {},
   "outputs": [],
   "source": [
    "#Q :  How can unsupervised learning be used in anomaly detection?\n",
    "\n",
    "#Ans : Unsupervised learning algorithms divides the dataset into different clusters based on hyper parameters of algorithms.\n",
    "#After clustering it becomes easy to indentify outlier as it does not comes in any cluster."
   ]
  },
  {
   "cell_type": "code",
   "execution_count": 10,
   "id": "f6220a8a",
   "metadata": {},
   "outputs": [],
   "source": [
    "#Q : List down some commonly used supervised learning algorithms and unsupervised learning algorithms.\n",
    "\n",
    "#Ans : Supervised Learning Algorithm :\n",
    "    # Linear Regression\n",
    "    # Logistic Regression\n",
    "    # Decision Trees\n",
    "    # Support Vector Machines\n",
    "    \n",
    "# Unsupervised Learning Algorithm :\n",
    "    # K Mean Clustering\n",
    "    # DBSCAN"
   ]
  },
  {
   "cell_type": "code",
   "execution_count": null,
   "id": "7081110d",
   "metadata": {},
   "outputs": [],
   "source": []
  }
 ],
 "metadata": {
  "kernelspec": {
   "display_name": "Python 3 (ipykernel)",
   "language": "python",
   "name": "python3"
  },
  "language_info": {
   "codemirror_mode": {
    "name": "ipython",
    "version": 3
   },
   "file_extension": ".py",
   "mimetype": "text/x-python",
   "name": "python",
   "nbconvert_exporter": "python",
   "pygments_lexer": "ipython3",
   "version": "3.9.13"
  }
 },
 "nbformat": 4,
 "nbformat_minor": 5
}
