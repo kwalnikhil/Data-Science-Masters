{
 "cells": [
  {
   "cell_type": "code",
   "execution_count": 1,
   "id": "f53896b4",
   "metadata": {},
   "outputs": [],
   "source": [
    "#Q1. Explain Class and Object with respect to Object-Oriented Programming. Give a suitable example"
   ]
  },
  {
   "cell_type": "markdown",
   "id": "3f484e48",
   "metadata": {},
   "source": [
    "# Class :"
   ]
  },
  {
   "cell_type": "code",
   "execution_count": 7,
   "id": "39c3c9d1",
   "metadata": {},
   "outputs": [],
   "source": [
    "#Classes provide a means of bundling data and functionality together. Creating a new class creates a new type of object,\n",
    "#allowing new instances of that type to be made. Each class instance can have attributes attached to it for maintaining \n",
    "#its state. Class instances can also have methods (defined by its class) for modifying its state."
   ]
  },
  {
   "cell_type": "code",
   "execution_count": 8,
   "id": "eb3c9f6a",
   "metadata": {},
   "outputs": [],
   "source": [
    "#A class is considered as a blueprint of objects. We can think of the class as a sketch (prototype) of a house. \n",
    "#It contains all the details about the floors, doors, windows, etc. Based on these descriptions we build the house. \n",
    "#House is the object.Since many houses can be made from the same description, we can create many objects from a class."
   ]
  },
  {
   "cell_type": "code",
   "execution_count": 14,
   "id": "c2509d24",
   "metadata": {},
   "outputs": [],
   "source": [
    "# Example of Class\n",
    "class Bike:\n",
    "    name = \"HERO HONDA\"\n",
    "    color = \"BLACK\""
   ]
  },
  {
   "cell_type": "code",
   "execution_count": 15,
   "id": "da4d41c9",
   "metadata": {},
   "outputs": [],
   "source": [
    "b1 = Bike() # b1 is an object of class Bike"
   ]
  },
  {
   "cell_type": "code",
   "execution_count": 18,
   "id": "527a65f9",
   "metadata": {},
   "outputs": [
    {
     "data": {
      "text/plain": [
       "'HERO HONDA'"
      ]
     },
     "execution_count": 18,
     "metadata": {},
     "output_type": "execute_result"
    }
   ],
   "source": [
    "b1.name"
   ]
  },
  {
   "cell_type": "code",
   "execution_count": 19,
   "id": "e93fa3c7",
   "metadata": {},
   "outputs": [],
   "source": [
    "b1.name = \"TVS\""
   ]
  },
  {
   "cell_type": "code",
   "execution_count": 20,
   "id": "40cffea3",
   "metadata": {},
   "outputs": [
    {
     "data": {
      "text/plain": [
       "'TVS'"
      ]
     },
     "execution_count": 20,
     "metadata": {},
     "output_type": "execute_result"
    }
   ],
   "source": [
    "b1.name"
   ]
  },
  {
   "cell_type": "code",
   "execution_count": 21,
   "id": "686ea3d7",
   "metadata": {},
   "outputs": [],
   "source": [
    "#Q2 : Name the four pillars of OOPs."
   ]
  },
  {
   "cell_type": "code",
   "execution_count": 22,
   "id": "f9b4eebc",
   "metadata": {},
   "outputs": [],
   "source": [
    "# 1. Inheritance 2.Polymorphism 3. Abstraction 4.Encapsulation"
   ]
  },
  {
   "cell_type": "code",
   "execution_count": 23,
   "id": "81dec189",
   "metadata": {},
   "outputs": [],
   "source": [
    "#Q3.  Explain why the __init__() function is used. Give a suitable example"
   ]
  },
  {
   "cell_type": "code",
   "execution_count": 24,
   "id": "afebc541",
   "metadata": {},
   "outputs": [],
   "source": [
    "#The __init__ method is similar to constructors in C++ and Java. It is run as soon as an object of a class is instantiated. \n",
    "#The method is useful to do any initialization you want to do with your object. "
   ]
  },
  {
   "cell_type": "code",
   "execution_count": 25,
   "id": "ea00be9a",
   "metadata": {},
   "outputs": [],
   "source": [
    "class pwskills1:\n",
    "    def __init__(self,phone_num,email_id,student_id):    ## Constuctor\n",
    "        self.phone_num = phone_num\n",
    "        self.email_id = email_id\n",
    "        self.student_id = student_id"
   ]
  },
  {
   "cell_type": "code",
   "execution_count": 26,
   "id": "4a0fe6e3",
   "metadata": {},
   "outputs": [],
   "source": [
    "sohan = pwskills1(987654321,\"sohan@gmail.com\",101)"
   ]
  },
  {
   "cell_type": "code",
   "execution_count": 27,
   "id": "acad401a",
   "metadata": {},
   "outputs": [
    {
     "data": {
      "text/plain": [
       "987654321"
      ]
     },
     "execution_count": 27,
     "metadata": {},
     "output_type": "execute_result"
    }
   ],
   "source": [
    "sohan.phone_num"
   ]
  },
  {
   "cell_type": "code",
   "execution_count": 28,
   "id": "bb9185ed",
   "metadata": {},
   "outputs": [],
   "source": [
    "#Q4. Why self is used in OOPs?"
   ]
  },
  {
   "cell_type": "code",
   "execution_count": 29,
   "id": "25994dd4",
   "metadata": {},
   "outputs": [],
   "source": [
    "#The python __init__ method is declared within a class and is used to initialize the attributes of \n",
    "#an object as soon as the object is formed. While giving the definition for an __init__(self) method, \n",
    "#a default parameter, named 'self' is always passed in its argument. This self represents the object of the class itself."
   ]
  },
  {
   "cell_type": "code",
   "execution_count": null,
   "id": "68be9c36",
   "metadata": {},
   "outputs": [],
   "source": [
    "#The self is used to represent the instance of the class. \n",
    "#With this keyword, you can access the attributes and methods of the class in python. \n",
    "#It binds the attributes with the given arguments. \n",
    "#The reason why we use self is that Python does not use the '@' syntax to refer to instance attributes."
   ]
  },
  {
   "cell_type": "code",
   "execution_count": 30,
   "id": "51076a13",
   "metadata": {},
   "outputs": [],
   "source": [
    "#Q5. What is inheritance? Give an example for each type of inheritance."
   ]
  },
  {
   "cell_type": "code",
   "execution_count": 31,
   "id": "387de16d",
   "metadata": {},
   "outputs": [],
   "source": [
    "#Inherit the properties of one class to other classes or from upper class to lower class\n",
    "#Inheritance can be of two types\n",
    "#1. Multi level Inheritance\n",
    "#2. Multiple Inheritance"
   ]
  },
  {
   "cell_type": "code",
   "execution_count": 33,
   "id": "404096f3",
   "metadata": {},
   "outputs": [],
   "source": [
    "# Multi level Inheritance\n",
    "\n",
    "class parent_class:\n",
    "    def test_parent(self):\n",
    "        print(\"This is parent class\")\n",
    "        \n",
    "class child_class(parent_class):\n",
    "    def test_child(self):\n",
    "        print(\"This is child class\")\n",
    "        \n",
    "class child2_class(child_class):\n",
    "    pass\n"
   ]
  },
  {
   "cell_type": "code",
   "execution_count": 35,
   "id": "c4314446",
   "metadata": {},
   "outputs": [],
   "source": [
    "child2_class_obj = child2_class()"
   ]
  },
  {
   "cell_type": "code",
   "execution_count": 36,
   "id": "8b988dd0",
   "metadata": {},
   "outputs": [
    {
     "name": "stdout",
     "output_type": "stream",
     "text": [
      "This is parent class\n"
     ]
    }
   ],
   "source": [
    "child2_class_obj.test_parent()"
   ]
  },
  {
   "cell_type": "code",
   "execution_count": 37,
   "id": "b68e0ecb",
   "metadata": {},
   "outputs": [
    {
     "name": "stdout",
     "output_type": "stream",
     "text": [
      "This is child class\n"
     ]
    }
   ],
   "source": [
    "child2_class_obj.test_child()"
   ]
  },
  {
   "cell_type": "code",
   "execution_count": 43,
   "id": "74426224",
   "metadata": {},
   "outputs": [],
   "source": [
    "# Multiple Inheritance\n",
    "class class1:\n",
    "    def test1(self):\n",
    "        print(\"This is class1\")\n",
    "        \n",
    "class class2:\n",
    "    def test2(self):\n",
    "        print(\"This is class2\")\n",
    "        \n",
    "class class3(class1,class2):\n",
    "    pass"
   ]
  },
  {
   "cell_type": "code",
   "execution_count": 44,
   "id": "55f8329f",
   "metadata": {},
   "outputs": [],
   "source": [
    "obj_class3 = class3"
   ]
  },
  {
   "cell_type": "code",
   "execution_count": 52,
   "id": "6990cf21",
   "metadata": {},
   "outputs": [
    {
     "data": {
      "text/plain": [
       "<function __main__.class2.test2(self)>"
      ]
     },
     "execution_count": 52,
     "metadata": {},
     "output_type": "execute_result"
    }
   ],
   "source": [
    "obj_class3.test2"
   ]
  },
  {
   "cell_type": "code",
   "execution_count": 53,
   "id": "6fb1cfb5",
   "metadata": {},
   "outputs": [
    {
     "data": {
      "text/plain": [
       "<function __main__.class1.test1(self)>"
      ]
     },
     "execution_count": 53,
     "metadata": {},
     "output_type": "execute_result"
    }
   ],
   "source": [
    "obj_class3.test1"
   ]
  },
  {
   "cell_type": "code",
   "execution_count": null,
   "id": "e60f9d41",
   "metadata": {},
   "outputs": [],
   "source": []
  }
 ],
 "metadata": {
  "kernelspec": {
   "display_name": "Python 3 (ipykernel)",
   "language": "python",
   "name": "python3"
  },
  "language_info": {
   "codemirror_mode": {
    "name": "ipython",
    "version": 3
   },
   "file_extension": ".py",
   "mimetype": "text/x-python",
   "name": "python",
   "nbconvert_exporter": "python",
   "pygments_lexer": "ipython3",
   "version": "3.9.13"
  }
 },
 "nbformat": 4,
 "nbformat_minor": 5
}
