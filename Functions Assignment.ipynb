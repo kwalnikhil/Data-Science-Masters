{
 "cells": [
  {
   "cell_type": "code",
   "execution_count": 2,
   "id": "d26650c1",
   "metadata": {},
   "outputs": [],
   "source": [
    "#Q1. Which keyword is used to create a function? Create a function to return a list of odd numbers in the range of 1 to 25."
   ]
  },
  {
   "cell_type": "code",
   "execution_count": 3,
   "id": "fa1730ff",
   "metadata": {},
   "outputs": [],
   "source": [
    "# def keyword is used to create a function"
   ]
  },
  {
   "cell_type": "code",
   "execution_count": 6,
   "id": "9c4f6ed3",
   "metadata": {},
   "outputs": [],
   "source": [
    "def odd_numbers(a):\n",
    "    odd_numbers = []\n",
    "    for i in range(a):\n",
    "        if i % 2 == 0:\n",
    "            pass\n",
    "        else:\n",
    "            odd_numbers.append(i)\n",
    "    return odd_numbers"
   ]
  },
  {
   "cell_type": "code",
   "execution_count": 7,
   "id": "583963cb",
   "metadata": {},
   "outputs": [
    {
     "data": {
      "text/plain": [
       "[1, 3, 5, 7, 9, 11, 13, 15, 17, 19, 21, 23]"
      ]
     },
     "execution_count": 7,
     "metadata": {},
     "output_type": "execute_result"
    }
   ],
   "source": [
    "odd_numbers(25)"
   ]
  },
  {
   "cell_type": "code",
   "execution_count": 9,
   "id": "0c719b85",
   "metadata": {},
   "outputs": [],
   "source": [
    "#Q2. Why *args and **kwargs is used in some functions? Create a function each for *args and **kwargs to demonstrate their use."
   ]
  },
  {
   "cell_type": "code",
   "execution_count": 10,
   "id": "7e293107",
   "metadata": {},
   "outputs": [],
   "source": [
    "# *args is used to provide dynamic number of inputs to a function\n",
    "# *kwargs is used to provide dynamic number of key value pairs to a function"
   ]
  },
  {
   "cell_type": "code",
   "execution_count": 11,
   "id": "fe007d7a",
   "metadata": {},
   "outputs": [],
   "source": [
    "### Example of args\n",
    "def test(*args):\n",
    "    l = []\n",
    "    for i in args:\n",
    "        if type(i) == list:\n",
    "            for j in i:\n",
    "                l.append(j)\n",
    "    return l"
   ]
  },
  {
   "cell_type": "code",
   "execution_count": 12,
   "id": "ee4a9c84",
   "metadata": {},
   "outputs": [
    {
     "data": {
      "text/plain": [
       "[1, 2, 3, 4, 5]"
      ]
     },
     "execution_count": 12,
     "metadata": {},
     "output_type": "execute_result"
    }
   ],
   "source": [
    "test(1,2,3,4,5,(1,2,3,4,5),[1,2,3,4,5],{1,2,3,4,5})"
   ]
  },
  {
   "cell_type": "code",
   "execution_count": 21,
   "id": "ae433a71",
   "metadata": {},
   "outputs": [],
   "source": [
    "### Example of kwargs (Print list if value of any key is given as list)\n",
    "def test2(**kwargs):\n",
    "    l = []\n",
    "    for i in kwargs.keys():\n",
    "        if type(kwargs.get(i)) == list:\n",
    "            l.append(kwargs.get(i))\n",
    "        else:\n",
    "            pass\n",
    "    return l"
   ]
  },
  {
   "cell_type": "code",
   "execution_count": 22,
   "id": "ed4a69cd",
   "metadata": {},
   "outputs": [
    {
     "data": {
      "text/plain": [
       "[[1, 2, 3, 4, 5]]"
      ]
     },
     "execution_count": 22,
     "metadata": {},
     "output_type": "execute_result"
    }
   ],
   "source": [
    "test2(a=1,b=2,c=[1,2,3,4,5],d=(3,4,5,6),e=\"Nikhil\")"
   ]
  },
  {
   "cell_type": "code",
   "execution_count": 23,
   "id": "86994820",
   "metadata": {},
   "outputs": [],
   "source": [
    "#Q3.  What is an iterator in python? Name the method used to initialise the iterator object and the method \n",
    "#used for iteration. Use these methods to print the first five elements of the given list [2, 4, 6, 8, 10, 12, 14, 16, 18, 20]."
   ]
  },
  {
   "cell_type": "code",
   "execution_count": 53,
   "id": "23f43503",
   "metadata": {},
   "outputs": [
    {
     "name": "stdout",
     "output_type": "stream",
     "text": [
      "2\n",
      "4\n",
      "6\n",
      "8\n",
      "10\n"
     ]
    }
   ],
   "source": [
    "## Iterator :\n",
    "# Iterator in Python is an object that is used to iterate over iterable objects like lists, tuples, dicts, and sets\n",
    "# iter() method is used to initialize the iterator and next() method is used for interation.\n",
    "\n",
    "l = [2, 4, 6, 8, 10, 12, 14, 16, 18, 20]\n",
    "output = iter(l)\n",
    "print(next(output))\n",
    "print(next(output))\n",
    "print(next(output))\n",
    "print(next(output))\n",
    "print(next(output))"
   ]
  },
  {
   "cell_type": "code",
   "execution_count": null,
   "id": "91a19610",
   "metadata": {},
   "outputs": [],
   "source": [
    "#Q4.  What is a generator function in python? Why yield keyword is used? Give an example of a generator function."
   ]
  },
  {
   "cell_type": "code",
   "execution_count": 24,
   "id": "aeb96e45",
   "metadata": {},
   "outputs": [],
   "source": [
    "# Generator Function :: Generator function does not store the output in a variable. Instead it provides efficient use of \n",
    "# memory with storing only recent value in memory\n",
    "\n",
    "# Yield :: Yield is the keyword to return only one object at a time and stores only one value at one point.\n",
    "\n",
    "# Generator Function Example :\n",
    "def fib(n):\n",
    "    a,b = 0,1\n",
    "    for i in range(n):\n",
    "        yield a\n",
    "        a,b = b, a+b"
   ]
  },
  {
   "cell_type": "code",
   "execution_count": 25,
   "id": "5a610a0d",
   "metadata": {},
   "outputs": [
    {
     "data": {
      "text/plain": [
       "<generator object fib at 0x00000252D6BA8510>"
      ]
     },
     "execution_count": 25,
     "metadata": {},
     "output_type": "execute_result"
    }
   ],
   "source": [
    "fib(25)"
   ]
  },
  {
   "cell_type": "code",
   "execution_count": 26,
   "id": "3918085e",
   "metadata": {},
   "outputs": [
    {
     "name": "stdout",
     "output_type": "stream",
     "text": [
      "0 1 1 2 3 5 8 13 21 34 55 89 144 233 377 610 987 1597 2584 4181 6765 10946 17711 28657 46368 "
     ]
    }
   ],
   "source": [
    "for i in fib(25):\n",
    "    print(i,end=\" \")"
   ]
  },
  {
   "cell_type": "code",
   "execution_count": null,
   "id": "1ea6c616",
   "metadata": {},
   "outputs": [],
   "source": [
    "#Q5. Create a generator function for prime numbers less than 1000. Use the next() method to print the first 20 prime numbers."
   ]
  },
  {
   "cell_type": "code",
   "execution_count": 83,
   "id": "d37fa45e",
   "metadata": {},
   "outputs": [],
   "source": [
    "def factors(a):\n",
    "    l1 = []\n",
    "    for i in range (1,a+1):\n",
    "        if a%i == 0:\n",
    "            l1.append(i)\n",
    "    return l1\n",
    "            \n",
    "def prime(n):\n",
    "    l = factors(n)\n",
    "    if l == [1,n]:\n",
    "        print(n)\n",
    "    else:\n",
    "        pass"
   ]
  },
  {
   "cell_type": "code",
   "execution_count": 45,
   "id": "1c448630",
   "metadata": {},
   "outputs": [],
   "source": [
    "def prime_till_n(n):\n",
    "    for i in range(0,n+1):\n",
    "        l = factors(i)\n",
    "        if l == [1,i]:\n",
    "            yield i"
   ]
  },
  {
   "cell_type": "code",
   "execution_count": 46,
   "id": "f1b084a2",
   "metadata": {},
   "outputs": [
    {
     "data": {
      "text/plain": [
       "<generator object prime_till_n at 0x00000252D6BB3900>"
      ]
     },
     "execution_count": 46,
     "metadata": {},
     "output_type": "execute_result"
    }
   ],
   "source": [
    "prime_till_n(1000)"
   ]
  },
  {
   "cell_type": "code",
   "execution_count": 47,
   "id": "dc926e7a",
   "metadata": {},
   "outputs": [
    {
     "name": "stdout",
     "output_type": "stream",
     "text": [
      "2 3 5 7 11 13 17 19 23 29 31 37 41 43 47 53 59 61 67 71 73 79 83 89 97 101 103 107 109 113 127 131 137 139 149 151 157 163 167 173 179 181 191 193 197 199 211 223 227 229 233 239 241 251 257 263 269 271 277 281 283 293 307 311 313 317 331 337 347 349 353 359 367 373 379 383 389 397 401 409 419 421 431 433 439 443 449 457 461 463 467 479 487 491 499 503 509 521 523 541 547 557 563 569 571 577 587 593 599 601 607 613 617 619 631 641 643 647 653 659 661 673 677 683 691 701 709 719 727 733 739 743 751 757 761 769 773 787 797 809 811 821 823 827 829 839 853 857 859 863 877 881 883 887 907 911 919 929 937 941 947 953 967 971 977 983 991 997 "
     ]
    }
   ],
   "source": [
    "for i in prime_till_n(1000):\n",
    "    print(i,end=\" \")"
   ]
  },
  {
   "cell_type": "code",
   "execution_count": 54,
   "id": "6a00bac3",
   "metadata": {},
   "outputs": [],
   "source": [
    "# Q5.1 : Use the next() method to print the first 20 prime numbers. "
   ]
  },
  {
   "cell_type": "code",
   "execution_count": 95,
   "id": "305ae023",
   "metadata": {},
   "outputs": [
    {
     "name": "stdout",
     "output_type": "stream",
     "text": [
      "2\n",
      "3\n",
      "5\n",
      "7\n",
      "11\n",
      "13\n",
      "17\n",
      "19\n",
      "23\n",
      "29\n",
      "31\n",
      "37\n",
      "41\n",
      "43\n",
      "47\n",
      "53\n",
      "59\n",
      "61\n",
      "67\n",
      "71\n",
      "73\n"
     ]
    }
   ],
   "source": [
    "l = []\n",
    "for i in prime_till_n(1000):\n",
    "    l.append(i)\n",
    "l1 = l[:21]\n",
    "out = iter(l1)\n",
    "for i in l1:\n",
    "    print(next(out))"
   ]
  }
 ],
 "metadata": {
  "kernelspec": {
   "display_name": "Python 3 (ipykernel)",
   "language": "python",
   "name": "python3"
  },
  "language_info": {
   "codemirror_mode": {
    "name": "ipython",
    "version": 3
   },
   "file_extension": ".py",
   "mimetype": "text/x-python",
   "name": "python",
   "nbconvert_exporter": "python",
   "pygments_lexer": "ipython3",
   "version": "3.9.13"
  }
 },
 "nbformat": 4,
 "nbformat_minor": 5
}
